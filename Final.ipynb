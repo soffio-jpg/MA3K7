{
 "cells": [
  {
   "cell_type": "code",
   "execution_count": 1,
   "id": "1dd1656c",
   "metadata": {},
   "outputs": [],
   "source": [
    "import turtle\n",
    "import math\n",
    "import colorsys\n",
    "import time"
   ]
  },
  {
   "cell_type": "markdown",
   "id": "31470f96",
   "metadata": {},
   "source": [
    "### Archimedean spiral"
   ]
  },
  {
   "cell_type": "code",
   "execution_count": 2,
   "id": "9bed5f5f",
   "metadata": {},
   "outputs": [],
   "source": [
    "turtle.tracer(10,1)\n",
    "\n",
    "for i in range(120):\n",
    "    turtle.circle(i,20)\n",
    "    # Calculate color based on iteration\n",
    "    hue = i / (10 * math.pi)  # Normalize angle to [0, 1]\n",
    "    r, g, b = colorsys.hsv_to_rgb(hue, 1.0, 1.0)\n",
    "    turtle.color(r, g, b)  # Set pen color\n",
    "\n",
    "turtle.update()\n",
    "turtle.clearscreen()"
   ]
  },
  {
   "cell_type": "markdown",
   "id": "848bd2a2",
   "metadata": {},
   "source": [
    "### Logarithmic Spiral"
   ]
  },
  {
   "cell_type": "code",
   "execution_count": 3,
   "id": "b15142f6",
   "metadata": {},
   "outputs": [],
   "source": [
    "def drawLogarithmicSpiral(a, b, N, step):\n",
    "  # This sets the turtle cursor to the center of the screen and readies it for drawing\n",
    "    turtle.up()\n",
    "    turtle.setpos(0, 0)\n",
    "    turtle.down()\n",
    "\n",
    "    # This is an arbitrary range that seems to make the prettiest spirals\n",
    "    # The last parameter is the amount the cursor moves per step. Feel free to mess around with the numbers\n",
    "    # and see what happens!\n",
    "    for i in range(0, N, step):\n",
    "      # Draw a spiral \n",
    "        t = math.radians(i)\n",
    "        x = a*math.exp(b*t)*math.cos(t)\n",
    "        y = a*math.exp(b*t)*math.sin(t)\n",
    "        # Since our turtle is down, we'll be drawing the spiral as we move positions.\n",
    "        turtle.setpos(x, y)\n",
    "\n",
    "# Set a,b values and regulate number of steps to draw the spiral\n",
    "a = 0.20\n",
    "b = 0.20\n",
    "N = 2000\n",
    "step = 5\n",
    "\n",
    "drawLogarithmicSpiral(0.20, 0.20, N, step)\n",
    "turtle.clearscreen()"
   ]
  },
  {
   "cell_type": "markdown",
   "id": "6f6cd520",
   "metadata": {},
   "source": [
    "### Fractal of spirals\n",
    "\n",
    "This cell takes aroun $10$ seconds to run"
   ]
  },
  {
   "cell_type": "code",
   "execution_count": 4,
   "id": "7f688e5f",
   "metadata": {},
   "outputs": [
    {
     "data": {
      "text/plain": [
       "''"
      ]
     },
     "execution_count": 4,
     "metadata": {},
     "output_type": "execute_result"
    }
   ],
   "source": [
    "start_time = time.time()\n",
    "screen = turtle.Screen()\n",
    "\n",
    "screen.setup(700,700)\n",
    "screen.setworldcoordinates(-750,-750,750,750)\n",
    "turtle.speed(0)\n",
    "turtle.hideturtle()\n",
    "screen.tracer(0,0)\n",
    "\n",
    "def draw_spiral(x,y,length,direction):\n",
    "    L = length\n",
    "    for _ in range(25):\n",
    "        if length>5:\n",
    "            draw_spiral(x,y,length*0.27,direction-30)\n",
    "        turtle.up()\n",
    "        turtle.seth(direction)\n",
    "        turtle.goto(x,y)\n",
    "        if length <= 5: turtle.down()\n",
    "        turtle.fd(length)\n",
    "        x,y = turtle.xcor(), turtle.ycor()\n",
    "        length *= 0.93\n",
    "        direction += 20\n",
    "\n",
    "draw_spiral(-600,500,200,-90)\n",
    "screen.update()\n",
    "ts=turtle.getscreen()\n",
    "print(\"Time taken to produce plot: %s seconds\" % (time.time() - start_time))"
   ]
  }
 ],
 "metadata": {
  "kernelspec": {
   "display_name": "Python 3 (ipykernel)",
   "language": "python",
   "name": "python3"
  },
  "language_info": {
   "codemirror_mode": {
    "name": "ipython",
    "version": 3
   },
   "file_extension": ".py",
   "mimetype": "text/x-python",
   "name": "python",
   "nbconvert_exporter": "python",
   "pygments_lexer": "ipython3",
   "version": "3.9.13"
  }
 },
 "nbformat": 4,
 "nbformat_minor": 5
}
