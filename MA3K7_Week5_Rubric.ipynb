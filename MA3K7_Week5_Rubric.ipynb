{
 "cells": [
  {
   "cell_type": "code",
   "execution_count": 1,
   "id": "05f49d0f",
   "metadata": {},
   "outputs": [],
   "source": [
    "import numpy as np\n",
    "import matplotlib.pyplot as plt \n",
    "import random"
   ]
  },
  {
   "cell_type": "code",
   "execution_count": 2,
   "id": "280550a5",
   "metadata": {
    "scrolled": true
   },
   "outputs": [
    {
     "name": "stdout",
     "output_type": "stream",
     "text": [
      "[[1 0 1 1 0]\n",
      " [0 1 1 0 0]\n",
      " [1 0 0 1 1]\n",
      " [0 1 1 0 0]\n",
      " [1 0 0 1 1]]\n"
     ]
    }
   ],
   "source": [
    "#### ATTEMPT 1\n",
    "#Check if all elements in the column are equal \n",
    "def winner(matrix):\n",
    "    for i in range(len(matrix)):\n",
    "        column = [row[i] for row in matrix]\n",
    "        line = matrix[i]\n",
    "        #print(\"column is\", column)\n",
    "        #print(\"row is\", line)\n",
    "        if all(x == 0 for x in column): \n",
    "            print(\"Entries in column\", i, \"are all equal to 0\")\n",
    "            print(\"Indeed the determinant is equal to\", np.linalg.det(matrix))\n",
    "            break\n",
    "        elif all(x == 0 for x in line): \n",
    "            print(\"Entries in line\",i, \"has all entries equal to 0\")\n",
    "            print(\"Indeed the determinant is equal to\", np.linalg.det(matrix))\n",
    "            break\n",
    "\n",
    "n = 5\n",
    "matrix = np.random.randint(low=0, high=2, size=(n, n))\n",
    "print(matrix)\n",
    "winner(matrix)\n",
    "if(np.linalg.det(matrix)!= 0.0):\n",
    "    print(\"Determinant is equal to\", np.linalg.det(matrix))"
   ]
  },
  {
   "cell_type": "markdown",
   "id": "c8e796ea",
   "metadata": {},
   "source": [
    "From some of the examples above, we notice that the random matrices produce matrix with determinant $0$ even though there aren't any lines or rows with all $0$s.\n",
    "\n",
    "For example the following $5 \\times 5$ matrix:\n",
    "\n",
    "$$\\begin{pmatrix} \n",
    "0 & 0 & 0 & 1 & 0 \\\\ \n",
    "0 & 1 & 1 & 0 & 0 \\\\\n",
    "0 & 0 & 1 & 0 & 0 \\\\\n",
    "1 & 1 & 0 & 1 & 1 \\\\\n",
    "1 & 1 & 0 & 0 & 1 \\\\\n",
    "\\end{pmatrix}$$\n",
    "\n",
    "\n",
    "Notice here that column $0$ is equal to column $4$, following Python indexing that starts form $0$, hence we implement the function above to check whether any 2 rows or colum\n",
    "Hence another attempt is based on implementing the function above such that it checks whether any 2 rows or columns are equal."
   ]
  },
  {
   "cell_type": "code",
   "execution_count": 3,
   "id": "a837cad2",
   "metadata": {
    "scrolled": true
   },
   "outputs": [
    {
     "name": "stdout",
     "output_type": "stream",
     "text": [
      "[[0 0 1 0 1]\n",
      " [1 0 1 0 1]\n",
      " [1 0 0 1 0]\n",
      " [0 1 0 0 0]\n",
      " [1 1 0 0 1]]\n",
      "Determinant is equal to -1.0\n"
     ]
    }
   ],
   "source": [
    "##### ATTEMPT 2\n",
    "\n",
    "def winner(matrix):\n",
    "    for i in range(len(matrix)):\n",
    "        for j in range(i+1, len(matrix)):\n",
    "            column = matrix[:,i]\n",
    "            col2 = matrix[:,j]\n",
    "            line = matrix[i]\n",
    "            line2 = matrix[j]\n",
    "            #Check if all elements in the column are equal \n",
    "            if all(x == 0 for x in column): \n",
    "                print(\"Entries in column\", i, \"are all equal to 0\")\n",
    "                break\n",
    "            elif all(x == 0 for x in line): \n",
    "                print(\"Entries in line\",i, \"has all entries equal to 0\")\n",
    "                break\n",
    "            elif np.array_equal(column, col2):\n",
    "                print(\"column\",i,\"is equal to column\",j)\n",
    "                break\n",
    "            elif np.array_equal(line, line2):\n",
    "                print(\"row\",i,\"is equal to row\",j)\n",
    "                break\n",
    "            \n",
    "n = 5\n",
    "matrix = (np.random.randint(low=0, high=2, size=(n, n)))\n",
    "\n",
    "print(matrix)\n",
    "winner(matrix)\n",
    "print(\"Determinant is equal to\", np.linalg.det(matrix))"
   ]
  },
  {
   "cell_type": "markdown",
   "id": "a6923828",
   "metadata": {},
   "source": [
    "One of the examples that came up with the random generation, shows no similar rows or columns but still has determinant $0$ hence, the fame could still be won by the player using only $0$:\n",
    "$$\\begin{pmatrix} \n",
    "0 & 1 & 0 & 0 & 0 \\\\ \n",
    "0 & 0 & 1 & 1 & 0 \\\\\n",
    "0 & 1 & 1 & 0 & 1 \\\\\n",
    "0 & 1 & 1 & 1 & 0 \\\\\n",
    "1 & 1 & 1 & 0 & 1 \\\\\n",
    "\\end{pmatrix}$$\n",
    "\n",
    "Another of the condition for which the determinant is $0$, is given by linear dependende of columns / rows.\n",
    "In this case notice that sum of all entries of row $0$ with row $4$ is equal to the sum of all entries of row $1$ with either row $2$ or row $3$.\n",
    "\n",
    "And that column $4$ = column $2$ - column $3$\n",
    "\n",
    "Hence check that by implementing the function written above"
   ]
  },
  {
   "cell_type": "code",
   "execution_count": 4,
   "id": "e849ae92",
   "metadata": {
    "scrolled": false
   },
   "outputs": [
    {
     "name": "stdout",
     "output_type": "stream",
     "text": [
      "[[0 1 1 0]\n",
      " [0 1 1 0]\n",
      " [0 0 1 1]\n",
      " [0 0 0 0]]\n",
      "Entries in column 0 are all equal to 0\n",
      "Determinant is equal to 0.0\n"
     ]
    }
   ],
   "source": [
    "##### ATTEMPT 3\n",
    "\n",
    "def winner(matrix):\n",
    "    for i in range(len(matrix)):\n",
    "        column = matrix[:,i]\n",
    "        line = matrix[i]        \n",
    "        #Check if all elements in the column are equal to 0 \n",
    "        if all(x == 0 for x in column): \n",
    "            print(\"Entries in column\", i, \"are all equal to 0\")\n",
    "            break\n",
    "        elif all(x == 0 for x in line): \n",
    "            print(\"Entries in line\",i, \"has all entries equal to 0\")\n",
    "            break\n",
    "        for j in range(i+1, len(matrix)):\n",
    "                col2 = matrix[:,j]\n",
    "                line2 = matrix[j]              \n",
    "                #Check if any 2 columns or rows are equal\n",
    "                if np.array_equal(column, col2):\n",
    "                    print(\"column\",i,\"is equal to column\",j)\n",
    "                    break\n",
    "                elif np.array_equal(line, line2):\n",
    "                    print(\"row\",i,\"is equal to row\",j)\n",
    "                    break\n",
    "                for k in range(j+1,len(matrix)):\n",
    "                    col3 = matrix[:,k]\n",
    "                    line3 = matrix[k] \n",
    "                    #Check if any column / row is a linear combination of the other\n",
    "                    if np.array_equal(col3, col2+column):\n",
    "                        print(\"the column\", k, \"is a linear combination of column\", i,\"and\",j)\n",
    "                        break\n",
    "                    elif np.array_equal(col3, col2-column):\n",
    "                        print(\"the column\", k, \"is a linear combination of column\", i,\"and\",j)\n",
    "                        break\n",
    "                    elif np.array_equal(col3, -col2 + column):\n",
    "                        print(\"the column\", k, \"is a linear combination of column\", i,\"and\",j)\n",
    "                        break\n",
    "                    elif np.array_equal(line3, line +line2):\n",
    "                        print(\"row\", k, \"is a linear combination of row\", i,\"and\",j)\n",
    "                        break\n",
    "                    elif np.array_equal(line3, line -line2):\n",
    "                        print(\"row\", k, \"is a linear combination of row\", i,\"and\",j)\n",
    "                        break\n",
    "                    elif np.array_equal(line3,-line +line2):\n",
    "                        print(\"row\", k, \"is a linear combination of row\", i,\"and\",j)\n",
    "                        break\n",
    "\n",
    "#for n > 2\n",
    "n = 4\n",
    "matrix = (np.random.randint(low=0, high=2, size=(n, n)))\n",
    "\n",
    "print(matrix)\n",
    "winner(matrix)\n",
    "print(\"Determinant is equal to\", np.linalg.det(matrix))"
   ]
  },
  {
   "cell_type": "markdown",
   "id": "ab2ac718",
   "metadata": {},
   "source": [
    "One of the above condtions is true any time the determinant of the matrix is 0."
   ]
  },
  {
   "cell_type": "code",
   "execution_count": 5,
   "id": "345400bc",
   "metadata": {
    "scrolled": true
   },
   "outputs": [
    {
     "name": "stdout",
     "output_type": "stream",
     "text": [
      "Generated 10x10 Matrix:\n",
      "[[1 1 1 1 1 1 1 1 1 1]\n",
      " [0 0 0 0 0 0 0 0 0 0]\n",
      " [0 1 0 1 1 1 1 1 1 0]\n",
      " [1 1 1 1 1 1 1 1 1 1]\n",
      " [0 0 0 1 1 1 1 0 1 0]\n",
      " [0 0 0 0 0 0 0 0 0 0]\n",
      " [0 0 0 1 0 1 0 0 1 0]\n",
      " [0 0 0 1 0 1 0 0 1 0]\n",
      " [0 0 0 1 1 1 1 1 1 0]\n",
      " [0 0 0 1 1 1 1 1 1 0]]\n",
      "0.0\n"
     ]
    }
   ],
   "source": [
    "def generate_matrix(n):\n",
    "    matrix = np.zeros((n, n), dtype=int)\n",
    "\n",
    "        \n",
    "    # Distribute ones randomly across rows\n",
    "    num_ones = n * n // 2\n",
    "    for i in range(n):\n",
    "        if i < n - 1:  \n",
    "            ones_count = random.randint(0, num_ones)\n",
    "            matrix[i, :ones_count] = 1\n",
    "            num_ones -= ones_count\n",
    "        else:\n",
    "            matrix[i, :num_ones] = 1\n",
    "    # Shuffle rows to ensure randomness\n",
    "    np.random.shuffle(matrix)\n",
    "    \n",
    "    # Ensure the difference in number of 0s and 1s is at most 1\n",
    "    num_zeros = np.sum(matrix == 0)\n",
    "    num_ones = np.sum(matrix == 1)\n",
    "    if abs(num_zeros - num_ones) > 1:\n",
    "        # Reshuffle until the condition is met\n",
    "        return generate_matrix(n)\n",
    "\n",
    "    # Swap pairs of rows to ensure at least two pairs with equal sums\n",
    "    for i in range(0, n-1, 2):\n",
    "        matrix[[i, i+1]] = matrix[[i+1, i]]\n",
    "        \n",
    "    # Shuffle columns to add randomness to each row\n",
    "    matrix = matrix[:, np.random.permutation(matrix.shape[1])]\n",
    "        \n",
    "    return matrix\n",
    "\n",
    "# Example usage:\n",
    "n = 10\n",
    "matrix = generate_matrix(n)\n",
    "\n",
    "# Display matrix\n",
    "print(f\"Generated {n}x{n} Matrix:\")\n",
    "print(matrix)\n",
    "print(np.linalg.det(matrix))"
   ]
  },
  {
   "cell_type": "code",
   "execution_count": 31,
   "id": "831bf333",
   "metadata": {
    "scrolled": false
   },
   "outputs": [
    {
     "name": "stdout",
     "output_type": "stream",
     "text": [
      "Generated 9x9 Matrix:\n",
      "[[1 0 1 0 1 0 0 1 0]\n",
      " [1 0 0 0 0 0 1 0 0]\n",
      " [1 1 1 1 0 1 1 0 1]\n",
      " [0 0 1 1 0 1 1 1 1]\n",
      " [1 1 0 1 0 0 0 1 1]\n",
      " [1 0 1 1 0 0 0 1 1]\n",
      " [1 0 0 1 1 0 1 0 1]\n",
      " [0 0 1 0 0 1 0 0 1]\n",
      " [1 0 0 1 0 0 1 0 1]]\n",
      "Determinant: 0.0\n"
     ]
    }
   ],
   "source": [
    "def generate_matrix(n):\n",
    "    while True:\n",
    "        # Initialize a matrix with zeros\n",
    "        matrix = np.zeros((n, n), dtype=int)\n",
    "\n",
    "        # Assign 1s randomly\n",
    "        num_ones = random.randint(0, n**2)\n",
    "        for _ in range(num_ones):\n",
    "            i, j = random.randint(0, n-1), random.randint(0, n-1)\n",
    "            while matrix[i, j] == 1:  #Avoid reassigning 1 to an already assigned cell\n",
    "                i, j = random.randint(0, n-1), random.randint(0, n-1)\n",
    "            matrix[i, j] = 1\n",
    "\n",
    "        # Ensure the number of 0s is either equal to the number of 1s or at most one more\n",
    "        num_zeros = np.count_nonzero(matrix == 0)\n",
    "        num_ones = np.count_nonzero(matrix == 1)\n",
    "        if abs(num_zeros - num_ones) > 1:\n",
    "            continue\n",
    "\n",
    "        # Modify one row to be a linear combination of the others\n",
    "        row_to_modify = random.randint(0, n-1)\n",
    "        matrix[row_to_modify] = np.sum(matrix, axis=0) % 2\n",
    "        \n",
    "        # Ensure no row or column contains all 0s or all 1s\n",
    "        row_has_all_zeros_or_ones = any(np.all(row == 0) or np.all(row == 1) for row in matrix)\n",
    "        col_has_all_zeros_or_ones = any(np.all(col == 0) or np.all(col == 1) for col in matrix.T)\n",
    "        if row_has_all_zeros_or_ones or col_has_all_zeros_or_ones:\n",
    "            continue\n",
    "\n",
    "        # Check if the determinant is 0\n",
    "        if np.linalg.det(matrix) == 0:\n",
    "            return matrix\n",
    "\n",
    "# Example usage:\n",
    "n = 9\n",
    "matrix = generate_matrix(n)\n",
    "\n",
    "# Display matrix\n",
    "print(f\"Generated {n}x{n} Matrix:\")\n",
    "print(matrix)\n",
    "\n",
    "# Check determinant\n",
    "print(\"Determinant:\", np.linalg.det(matrix))\n"
   ]
  },
  {
   "cell_type": "code",
   "execution_count": null,
   "id": "da0c38ef",
   "metadata": {},
   "outputs": [],
   "source": []
  }
 ],
 "metadata": {
  "kernelspec": {
   "display_name": "Python 3 (ipykernel)",
   "language": "python",
   "name": "python3"
  },
  "language_info": {
   "codemirror_mode": {
    "name": "ipython",
    "version": 3
   },
   "file_extension": ".py",
   "mimetype": "text/x-python",
   "name": "python",
   "nbconvert_exporter": "python",
   "pygments_lexer": "ipython3",
   "version": "3.9.13"
  }
 },
 "nbformat": 4,
 "nbformat_minor": 5
}
