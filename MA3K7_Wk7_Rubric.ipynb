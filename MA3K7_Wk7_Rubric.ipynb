{
 "cells": [
  {
   "cell_type": "code",
   "execution_count": 1,
   "id": "9c1645a5",
   "metadata": {},
   "outputs": [],
   "source": [
    "import numpy as np\n",
    "import matplotlib.pyplot as plt \n",
    "import random"
   ]
  },
  {
   "cell_type": "code",
   "execution_count": 2,
   "id": "444e08b9",
   "metadata": {},
   "outputs": [
    {
     "name": "stdout",
     "output_type": "stream",
     "text": [
      "1012 1012\n"
     ]
    }
   ],
   "source": [
    "def nbr_odds_even(array):\n",
    "    count_e = 0\n",
    "    count_o = 0\n",
    "    for i in array:\n",
    "        if(i%2==0):\n",
    "            count_e +=1\n",
    "        else:\n",
    "            count_o+=1\n",
    "    print(count_e,count_o)\n",
    "\n",
    "#set value n = 4k\n",
    "n = 2024\n",
    "array = [i for i in range(1,n+1)]\n",
    "nbr_odds_even(array)"
   ]
  },
  {
   "cell_type": "markdown",
   "id": "c2c8ad94",
   "metadata": {},
   "source": [
    "### Conjecture 2"
   ]
  },
  {
   "cell_type": "code",
   "execution_count": 3,
   "id": "fcda5ac7",
   "metadata": {
    "scrolled": false
   },
   "outputs": [
    {
     "name": "stdout",
     "output_type": "stream",
     "text": [
      "[3]\n",
      "[1]\n",
      "[3]\n"
     ]
    }
   ],
   "source": [
    "def randomly_subtract_and_insert(arr):\n",
    "    if len(arr) < 2:\n",
    "        return arr\n",
    "\n",
    "    # Select two random indices\n",
    "    index1 = random.randint(0, len(arr) - 1)\n",
    "    index2 = random.randint(0, len(arr) - 1)\n",
    "\n",
    "    # Ensure index1 and index2 are distinct\n",
    "    while index2 == index1:\n",
    "        index2 = random.randint(0, len(arr) - 1)\n",
    "\n",
    "    # Subtract the element at index2 from the element at index1\n",
    "    difference = abs(arr[index1] - arr[index2])\n",
    "\n",
    "    # Remove the elements at index1 and index2\n",
    "    indices_to_remove = sorted([index1, index2], reverse=True)\n",
    "    for idx in indices_to_remove:\n",
    "        arr.pop(idx)\n",
    "        \n",
    "    # Insert the absolute value of the difference\n",
    "    arr.insert(random.randint(0, len(arr)), difference)\n",
    "\n",
    "    return arr\n",
    "\n",
    "\n",
    "# Example usage\n",
    "n = 26\n",
    "my_array1=[i for i in range(1,n)]\n",
    "my_array2=[i for i in range(1,n)]\n",
    "my_array3=[i for i in range(1,n)]\n",
    "\n",
    "# Perform random subtraction, insertion, and removal\n",
    "while len(my_array1) & len(my_array2) & len(my_array3) > 1:\n",
    "    randomly_subtract_and_insert(my_array1)\n",
    "    randomly_subtract_and_insert(my_array2) \n",
    "    randomly_subtract_and_insert(my_array3)\n",
    "\n",
    "print(my_array1)\n",
    "print(my_array2)\n",
    "print(my_array3)"
   ]
  },
  {
   "cell_type": "markdown",
   "id": "b3b572ab",
   "metadata": {},
   "source": [
    "### Conjecture 3"
   ]
  },
  {
   "cell_type": "code",
   "execution_count": 4,
   "id": "054adc37",
   "metadata": {},
   "outputs": [
    {
     "name": "stdout",
     "output_type": "stream",
     "text": [
      "All elements in the list are even\n"
     ]
    }
   ],
   "source": [
    "def simulate_hat_process(num_papers, num_simulations):\n",
    "    final_numbers = []\n",
    "    \n",
    "    for _ in range(num_simulations):\n",
    "        # Create a list of papers numbered from 1 to num_papers\n",
    "        papers = list(range(1, num_papers + 1))\n",
    "\n",
    "        # Repeat the process until only one paper remains\n",
    "        while len(papers) > 1:\n",
    "            # Draw two papers randomly\n",
    "            paper1_index = random.randrange(len(papers))\n",
    "            paper2_index = random.randrange(len(papers))\n",
    "\n",
    "            # Ensure the two drawn indices are distinct\n",
    "            while paper1_index == paper2_index:\n",
    "                paper2_index = random.randrange(len(papers))\n",
    "\n",
    "            # Get the values of the drawn papers\n",
    "            paper1 = papers[paper1_index]\n",
    "            paper2 = papers[paper2_index]\n",
    "\n",
    "            # Remove the drawn papers from the list\n",
    "            papers.remove(max(paper1, paper2))\n",
    "            papers.remove(min(paper1, paper2))\n",
    "\n",
    "            # Calculate the difference between the two drawn papers\n",
    "            difference = abs(paper1 - paper2)\n",
    "\n",
    "            # Place the difference in the hat\n",
    "            papers.append(difference)\n",
    "\n",
    "        # Store the final remaining paper\n",
    "        final_numbers.append(papers[0])\n",
    "    \n",
    "    return final_numbers\n",
    "\n",
    "num_papers_in_hat = 2024\n",
    "num_simulations = 1000\n",
    "\n",
    "# Simulate the process\n",
    "final_numbers = simulate_hat_process(num_papers_in_hat, num_simulations)\n",
    "\n",
    "#check the outcome of the list \n",
    "all_even = all(element % 2 == 0 for element in final_numbers)\n",
    "if all_even:\n",
    "    print(\"All elements in the list are even\")\n",
    "else:\n",
    "    print(\"Some elements in the list are not even\")"
   ]
  },
  {
   "cell_type": "code",
   "execution_count": 5,
   "id": "94ea399c",
   "metadata": {},
   "outputs": [
    {
     "name": "stdout",
     "output_type": "stream",
     "text": [
      "All elements in the list are even\n"
     ]
    },
    {
     "data": {
      "image/png": "[encoded data removed]",
      "text/plain": [
       "<Figure size 1000x600 with 1 Axes>"
      ]
     },
     "metadata": {},
     "output_type": "display_data"
    }
   ],
   "source": [
    "def plot_final_numbers(final_numbers):\n",
    "    plt.figure(figsize=(10, 6))\n",
    "    plt.hist(final_numbers, bins=max(final_numbers)-min(final_numbers)+1, align='left', rwidth=0.8, color='skyblue', edgecolor='black')\n",
    "    plt.title('Distribution of Final Remaining Numbers')\n",
    "    plt.xlabel('Final Remaining Number')\n",
    "    plt.ylabel('Frequency')\n",
    "    plt.grid(axis='y', alpha=0.75)\n",
    "    plt.xticks(range(min(final_numbers), max(final_numbers)+1, 2))\n",
    "    plt.show()\n",
    "\n",
    "\n",
    "# Set the number of papers in the hat and the number of simulations\n",
    "#any number multiple of 4\n",
    "num_papers_in_hat = 100\n",
    "num_simulations = 500\n",
    "\n",
    "# Simulate the process\n",
    "final_numbers = simulate_hat_process(num_papers_in_hat, num_simulations)\n",
    "\n",
    "#check the outcome of the list \n",
    "all_even = all(element % 2 == 0 for element in final_numbers)\n",
    "if all_even:\n",
    "    print(\"All elements in the list are even\")\n",
    "else:\n",
    "    print(\"Some elements in the list are not even\")\n",
    "\n",
    "# Plot the final remaining numbers\n",
    "plot_final_numbers(final_numbers)"
   ]
  }
 ],
 "metadata": {
  "kernelspec": {
   "display_name": "Python 3 (ipykernel)",
   "language": "python",
   "name": "python3"
  },
  "language_info": {
   "codemirror_mode": {
    "name": "ipython",
    "version": 3
   },
   "file_extension": ".py",
   "mimetype": "text/x-python",
   "name": "python",
   "nbconvert_exporter": "python",
   "pygments_lexer": "ipython3",
   "version": "3.9.13"
  }
 },
 "nbformat": 4,
 "nbformat_minor": 5
}
